{
 "cells": [
  {
   "cell_type": "markdown",
   "metadata": {},
   "source": [
    "# Instructions\n",
    "\n",
    "1. Run all cells"
   ]
  },
  {
   "cell_type": "code",
   "execution_count": 1,
   "metadata": {},
   "outputs": [
    {
     "name": "stdout",
     "output_type": "stream",
     "text": [
      "Size of train/test: 153213 38303\n",
      "\n"
     ]
    }
   ],
   "source": [
    "from collections import defaultdict\n",
    "\n",
    "import pandas as pd\n",
    "import numpy as np\n",
    "\n",
    "from sklearn.experimental import enable_hist_gradient_boosting\n",
    "from sklearn.tree import DecisionTreeClassifier as Classifier\n",
    "from sklearn.tree import DecisionTreeRegressor as Regressor\n",
    "\n",
    "from sklearn.metrics import ndcg_score\n",
    "\n",
    "from dataset import WorksitesDataset\n",
    "from run import build_datasets\n",
    "\n",
    "class DatasetConfig:\n",
    "    dataset_path = \"./datasets/worksites.csv\"\n",
    "    fill_missing_regression = 1460\n",
    "    \n",
    "LABEL_COLUMNS = [\"FUTURE_TOTAL_COUNT\", \"DAYS_UNTIL_NEXT_ACCIDENT\"]\n",
    "\n",
    "train_ds, val_ds, test_ds = build_datasets(DatasetConfig, LABEL_COLUMNS)\n",
    "\n",
    "train_features = pd.concat([train_ds._features_df, val_ds._features_df]).to_numpy()\n",
    "train_labels = pd.concat([train_ds._labels_df, val_ds._labels_df])\n",
    "train_classifier_labels = (train_labels.iloc[:,0] > 0).astype(int).to_numpy()\n",
    "train_regressor_labels = train_labels.iloc[:,1].fillna(DatasetConfig.fill_missing_regression).to_numpy()\n",
    "\n",
    "test_features = test_ds._features_df.to_numpy()\n",
    "test_relevances = test_ds._df[[\"YEAR\", \"MONTH\", \"REGION_ID\", \"ACCIDENTS_TWELVE_MONTHS\"]].copy()\n",
    "test_relevances[\"REGION\"] = test_relevances[\"REGION_ID\"].map(WorksitesDataset.REGIONAL_OFFICES)\n",
    "\n",
    "print(\"Size of train/test:\", len(train_ds) + len(val_ds), len(test_ds), end=\"\\n\\n\")"
   ]
  },
  {
   "cell_type": "code",
   "execution_count": 2,
   "metadata": {},
   "outputs": [],
   "source": [
    "def compute_ranking_metrics(relevances, criticality):\n",
    "    relevances = relevances.copy()\n",
    "    relevances[\"CRITICALITY\"] = criticality\n",
    "    \n",
    "    ndcgs = defaultdict(list)\n",
    "\n",
    "    for region_year_month, group_df in relevances.groupby([\"REGION\", \"YEAR\", \"MONTH\"]):\n",
    "        if group_df[\"ACCIDENTS_TWELVE_MONTHS\"].sum() == 0:\n",
    "            continue\n",
    "        if len(group_df) > 1:\n",
    "            score = ndcg_score(\n",
    "                y_true=[group_df[\"ACCIDENTS_TWELVE_MONTHS\"]],\n",
    "                y_score=[group_df[\"CRITICALITY\"]],\n",
    "            )\n",
    "        else:\n",
    "            score = 1\n",
    "        region = region_year_month[0]\n",
    "        ndcgs[region].append(score)\n",
    "\n",
    "    mean_ndcgs = {}\n",
    "    for key, value in ndcgs.items():\n",
    "        mean_key = f\"{key}_NDCG\"\n",
    "        mean_value = np.mean(value)\n",
    "        mean_ndcgs[mean_key] = mean_value\n",
    "\n",
    "    mean_ndcg = np.mean(list(mean_ndcgs.values()))\n",
    "    return mean_ndcg, mean_ndcgs"
   ]
  },
  {
   "cell_type": "markdown",
   "metadata": {},
   "source": [
    "# Classifier"
   ]
  },
  {
   "cell_type": "code",
   "execution_count": 3,
   "metadata": {},
   "outputs": [
    {
     "data": {
      "text/plain": [
       "0.9962470547538395"
      ]
     },
     "execution_count": 3,
     "metadata": {},
     "output_type": "execute_result"
    }
   ],
   "source": [
    "X, y = train_features, train_classifier_labels\n",
    "clf = Classifier(random_state=42).fit(X, y)\n",
    "clf.score(X, y)"
   ]
  },
  {
   "cell_type": "code",
   "execution_count": 4,
   "metadata": {},
   "outputs": [
    {
     "data": {
      "text/plain": [
       "(0.517410303185587,\n",
       " {'ANTOFAGASTA_NDCG': 0.4840698526088696,\n",
       "  'ARICA_NDCG': 0.6553433864871141,\n",
       "  'ATACAMA_NDCG': 0.48739565031331794,\n",
       "  'CENTRO_NDCG': 0.3938738685667898,\n",
       "  'COQUIMBO_NDCG': 0.4068740162935044,\n",
       "  'MAGALLANES_NDCG': 0.6956858216550444,\n",
       "  'MAULE_NDCG': 0.6308970010421683,\n",
       "  \"O'HIGGINS_NDCG\": 0.4981979873436856,\n",
       "  'SUR_NDCG': 0.3918106991249038,\n",
       "  'TARAPACA_NDCG': 0.5299547484204726})"
      ]
     },
     "execution_count": 4,
     "metadata": {},
     "output_type": "execute_result"
    }
   ],
   "source": [
    "test_predicted = clf.predict_proba(test_features)[:,1]\n",
    "compute_ranking_metrics(test_relevances, test_predicted)"
   ]
  },
  {
   "cell_type": "markdown",
   "metadata": {},
   "source": [
    "# Regressor"
   ]
  },
  {
   "cell_type": "code",
   "execution_count": 5,
   "metadata": {},
   "outputs": [
    {
     "data": {
      "text/plain": [
       "0.973046320745934"
      ]
     },
     "execution_count": 5,
     "metadata": {},
     "output_type": "execute_result"
    }
   ],
   "source": [
    "X, y = train_features, train_regressor_labels\n",
    "est = Regressor(random_state=42).fit(X, y)\n",
    "est.score(X, y)"
   ]
  },
  {
   "cell_type": "code",
   "execution_count": 6,
   "metadata": {},
   "outputs": [
    {
     "data": {
      "text/plain": [
       "(0.6977760794857507,\n",
       " {'ANTOFAGASTA_NDCG': 0.6448355660527673,\n",
       "  'ARICA_NDCG': 0.9597210561410436,\n",
       "  'ATACAMA_NDCG': 0.6642246238151508,\n",
       "  'CENTRO_NDCG': 0.6817950590605372,\n",
       "  'COQUIMBO_NDCG': 0.8294907265625361,\n",
       "  'MAGALLANES_NDCG': 0.8546966607658227,\n",
       "  'MAULE_NDCG': 0.5008720055319669,\n",
       "  \"O'HIGGINS_NDCG\": 0.8570632060978465,\n",
       "  'SUR_NDCG': 0.40737284849072053,\n",
       "  'TARAPACA_NDCG': 0.5776890423391149})"
      ]
     },
     "execution_count": 6,
     "metadata": {},
     "output_type": "execute_result"
    }
   ],
   "source": [
    "test_predicted = -est.predict(test_features)\n",
    "compute_ranking_metrics(test_relevances, test_predicted)"
   ]
  },
  {
   "cell_type": "code",
   "execution_count": null,
   "metadata": {},
   "outputs": [],
   "source": []
  }
 ],
 "metadata": {
  "kernelspec": {
   "display_name": "Python 3",
   "language": "python",
   "name": "python3"
  },
  "language_info": {
   "codemirror_mode": {
    "name": "ipython",
    "version": 3
   },
   "file_extension": ".py",
   "mimetype": "text/x-python",
   "name": "python",
   "nbconvert_exporter": "python",
   "pygments_lexer": "ipython3",
   "version": "3.8.5"
  }
 },
 "nbformat": 4,
 "nbformat_minor": 4
}
