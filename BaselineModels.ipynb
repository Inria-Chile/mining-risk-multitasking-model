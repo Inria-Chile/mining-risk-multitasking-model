{
 "cells": [
  {
   "cell_type": "markdown",
   "metadata": {},
   "source": [
    "# Baseline Models\n",
    "\n",
    "In this notebook we'll implement a few baseline methods to compare the results of our multitasking model.\n",
    "We'll implement the following methods:\n",
    "\n",
    "- Single task model that regresses the `DAYS_UNTIL_NEXT_ACCIDENT` target\n",
    "- Single task model that classifies according to the `FUTURE_TOTAL_COUNT` target if the worksite has accidents in the future\n",
    "- XGBoost model that regresses the `DAYS_UNTIL_NEXT_ACCIDENTS` target\n",
    "- XGBoost model that classifies according to the `FUTURE_TOTAL_COUNT` target if the worksite has accidents in the future\n",
    "\n"
   ]
  },
  {
   "cell_type": "code",
   "execution_count": 1,
   "metadata": {},
   "outputs": [],
   "source": [
    "%load_ext autoreload\n",
    "%autoreload 2"
   ]
  },
  {
   "cell_type": "code",
   "execution_count": 10,
   "metadata": {},
   "outputs": [],
   "source": [
    "import os\n",
    "from dataclasses import dataclass, asdict, field\n",
    "from typing import List\n",
    "from pathlib import Path\n",
    "\n",
    "from torch.utils.data import DataLoader\n",
    "from pytorch_lightning import Trainer\n",
    "\n",
    "from model import MultiTaskLearner\n",
    "from run import build_datasets"
   ]
  },
  {
   "cell_type": "markdown",
   "metadata": {},
   "source": [
    "## Single task model: `DAYS_UNTIL_NEXT_ACCIDENT` target"
   ]
  },
  {
   "cell_type": "code",
   "execution_count": 11,
   "metadata": {},
   "outputs": [
    {
     "data": {
      "text/plain": [
       "(134062, 19151, 38303)"
      ]
     },
     "execution_count": 11,
     "metadata": {},
     "output_type": "execute_result"
    }
   ],
   "source": [
    "@dataclass\n",
    "class RegressionSingleTaskConfig:\n",
    "    epochs: int = 100\n",
    "    batch_size: int = 32\n",
    "    dataset_path: str = \"./datasets/worksites.csv\"\n",
    "    comet_logging: bool = False\n",
    "    dataloader_workers: int = 8\n",
    "    root_dir: str = \"./logs/\"\n",
    "    single_task: str = \"regression\"\n",
    "    label_columns: List[str] = field(default_factory=lambda: [\"DAYS_UNTIL_NEXT_ACCIDENT\"])\n",
    "\n",
    "args = RegressionSingleTaskConfig()\n",
    "train_ds, val_ds, test_ds = build_datasets(args, args.label_columns)\n",
    "len(train_ds), len(val_ds), len(test_ds)"
   ]
  },
  {
   "cell_type": "code",
   "execution_count": 12,
   "metadata": {},
   "outputs": [
    {
     "data": {
      "text/plain": [
       "{'epochs': 100,\n",
       " 'batch_size': 32,\n",
       " 'dataset_path': './datasets/worksites.csv',\n",
       " 'comet_logging': False,\n",
       " 'dataloader_workers': 8,\n",
       " 'root_dir': './logs/',\n",
       " 'single_task': 'regression',\n",
       " 'label_columns': ['DAYS_UNTIL_NEXT_ACCIDENT']}"
      ]
     },
     "execution_count": 12,
     "metadata": {},
     "output_type": "execute_result"
    }
   ],
   "source": [
    "asdict(args)"
   ]
  },
  {
   "cell_type": "code",
   "execution_count": null,
   "metadata": {},
   "outputs": [],
   "source": []
  }
 ],
 "metadata": {
  "kernelspec": {
   "display_name": "Python 3.7.7 64-bit ('venv-risotto': venv)",
   "language": "python",
   "name": "python37764bitvenvrisottovenv9536b9e68257405b8ab17e1634210db9"
  },
  "language_info": {
   "codemirror_mode": {
    "name": "ipython",
    "version": 3
   },
   "file_extension": ".py",
   "mimetype": "text/x-python",
   "name": "python",
   "nbconvert_exporter": "python",
   "pygments_lexer": "ipython3",
   "version": "3.8.5"
  }
 },
 "nbformat": 4,
 "nbformat_minor": 4
}
