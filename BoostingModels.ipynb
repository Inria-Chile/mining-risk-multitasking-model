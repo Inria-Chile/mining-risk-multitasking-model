{
 "cells": [
  {
   "cell_type": "markdown",
   "metadata": {},
   "source": [
    "# Instructions\n",
    "\n",
    "1. Run all cells"
   ]
  },
  {
   "cell_type": "code",
   "execution_count": 1,
   "metadata": {},
   "outputs": [
    {
     "name": "stdout",
     "output_type": "stream",
     "text": [
      "Size of train/test: 153213 38303\n",
      "\n"
     ]
    }
   ],
   "source": [
    "from collections import defaultdict\n",
    "\n",
    "import pandas as pd\n",
    "import numpy as np\n",
    "\n",
    "from sklearn.experimental import enable_hist_gradient_boosting\n",
    "from sklearn.ensemble import GradientBoostingClassifier as Classifier\n",
    "from sklearn.ensemble import GradientBoostingRegressor as Regressor\n",
    "\n",
    "from sklearn.metrics import ndcg_score\n",
    "\n",
    "from dataset import WorksitesDataset\n",
    "from run import build_datasets\n",
    "\n",
    "class DatasetConfig:\n",
    "    dataset_path = \"./datasets/worksites.csv\"\n",
    "    fill_missing_regression = 1460\n",
    "    \n",
    "LABEL_COLUMNS = [\"FUTURE_TOTAL_COUNT\", \"DAYS_UNTIL_NEXT_ACCIDENT\"]\n",
    "\n",
    "train_ds, val_ds, test_ds = build_datasets(DatasetConfig, LABEL_COLUMNS)\n",
    "\n",
    "train_features = pd.concat([train_ds._features_df, val_ds._features_df]).to_numpy()\n",
    "train_labels = pd.concat([train_ds._labels_df, val_ds._labels_df])\n",
    "train_classifier_labels = (train_labels.iloc[:,0] > 0).astype(int).to_numpy()\n",
    "train_regressor_labels = train_labels.iloc[:,1].fillna(DatasetConfig.fill_missing_regression).to_numpy()\n",
    "\n",
    "test_features = test_ds._features_df.to_numpy()\n",
    "test_relevances = test_ds._df[[\"YEAR\", \"MONTH\", \"REGION_ID\", \"ACCIDENTS_TWELVE_MONTHS\"]].copy()\n",
    "test_relevances[\"REGION\"] = test_relevances[\"REGION_ID\"].map(WorksitesDataset.REGIONAL_OFFICES)\n",
    "\n",
    "print(\"Size of train/test:\", len(train_ds) + len(val_ds), len(test_ds), end=\"\\n\\n\")"
   ]
  },
  {
   "cell_type": "code",
   "execution_count": 2,
   "metadata": {},
   "outputs": [],
   "source": [
    "def compute_ranking_metrics(relevances, criticality):\n",
    "    relevances = relevances.copy()\n",
    "    relevances[\"CRITICALITY\"] = criticality\n",
    "    \n",
    "    ndcgs = defaultdict(list)\n",
    "\n",
    "    for region_year_month, group_df in relevances.groupby([\"REGION\", \"YEAR\", \"MONTH\"]):\n",
    "        if group_df[\"ACCIDENTS_TWELVE_MONTHS\"].sum() == 0:\n",
    "            continue\n",
    "        if len(group_df) > 1:\n",
    "            score = ndcg_score(\n",
    "                y_true=[group_df[\"ACCIDENTS_TWELVE_MONTHS\"]],\n",
    "                y_score=[group_df[\"CRITICALITY\"]],\n",
    "            )\n",
    "        else:\n",
    "            score = 1\n",
    "        region = region_year_month[0]\n",
    "        ndcgs[region].append(score)\n",
    "\n",
    "    mean_ndcgs = {}\n",
    "    for key, value in ndcgs.items():\n",
    "        mean_key = f\"{key}_NDCG\"\n",
    "        mean_value = np.mean(value)\n",
    "        mean_ndcgs[mean_key] = mean_value\n",
    "\n",
    "    mean_ndcg = np.mean(list(mean_ndcgs.values()))\n",
    "    return mean_ndcg, mean_ndcgs"
   ]
  },
  {
   "cell_type": "markdown",
   "metadata": {},
   "source": [
    "# `GradientBoostingClassifier`"
   ]
  },
  {
   "cell_type": "code",
   "execution_count": 3,
   "metadata": {},
   "outputs": [
    {
     "data": {
      "text/plain": [
       "0.9666868999366894"
      ]
     },
     "execution_count": 3,
     "metadata": {},
     "output_type": "execute_result"
    }
   ],
   "source": [
    "X, y = train_features, train_classifier_labels\n",
    "clf = Classifier(random_state=42).fit(X, y)\n",
    "clf.score(X, y)"
   ]
  },
  {
   "cell_type": "code",
   "execution_count": 4,
   "metadata": {},
   "outputs": [
    {
     "data": {
      "text/plain": [
       "(0.8077466928989031,\n",
       " {'ANTOFAGASTA_NDCG': 0.6972892526742207,\n",
       "  'ARICA_NDCG': 1.0,\n",
       "  'ATACAMA_NDCG': 0.9445915959086405,\n",
       "  'CENTRO_NDCG': 0.7844571514621748,\n",
       "  'COQUIMBO_NDCG': 0.962655701131645,\n",
       "  'MAGALLANES_NDCG': 0.8067428466747268,\n",
       "  'MAULE_NDCG': 0.5739304356045668,\n",
       "  \"O'HIGGINS_NDCG\": 0.9985106858769003,\n",
       "  'SUR_NDCG': 0.6014953415798711,\n",
       "  'TARAPACA_NDCG': 0.7077939180762846})"
      ]
     },
     "execution_count": 4,
     "metadata": {},
     "output_type": "execute_result"
    }
   ],
   "source": [
    "test_predicted = clf.predict_proba(test_features)[:,1]\n",
    "compute_ranking_metrics(test_relevances, test_predicted)"
   ]
  },
  {
   "cell_type": "markdown",
   "metadata": {},
   "source": [
    "# `GradientBoostingRegressor`"
   ]
  },
  {
   "cell_type": "code",
   "execution_count": 5,
   "metadata": {},
   "outputs": [
    {
     "data": {
      "text/plain": [
       "0.6684511491963749"
      ]
     },
     "execution_count": 5,
     "metadata": {},
     "output_type": "execute_result"
    }
   ],
   "source": [
    "X, y = train_features, train_regressor_labels\n",
    "est = Regressor(random_state=42).fit(X, y)\n",
    "est.score(X, y)"
   ]
  },
  {
   "cell_type": "code",
   "execution_count": 6,
   "metadata": {},
   "outputs": [
    {
     "data": {
      "text/plain": [
       "(0.8183341671733133,\n",
       " {'ANTOFAGASTA_NDCG': 0.7798033589853474,\n",
       "  'ARICA_NDCG': 1.0,\n",
       "  'ATACAMA_NDCG': 0.9186036076432735,\n",
       "  'CENTRO_NDCG': 0.8049299243867941,\n",
       "  'COQUIMBO_NDCG': 0.9585323278444451,\n",
       "  'MAGALLANES_NDCG': 0.8763145341375751,\n",
       "  'MAULE_NDCG': 0.49859291893397173,\n",
       "  \"O'HIGGINS_NDCG\": 0.9985733649860123,\n",
       "  'SUR_NDCG': 0.6052211551435673,\n",
       "  'TARAPACA_NDCG': 0.7427704796721469})"
      ]
     },
     "execution_count": 6,
     "metadata": {},
     "output_type": "execute_result"
    }
   ],
   "source": [
    "test_predicted = -est.predict(test_features)\n",
    "compute_ranking_metrics(test_relevances, test_predicted)"
   ]
  },
  {
   "cell_type": "code",
   "execution_count": null,
   "metadata": {},
   "outputs": [],
   "source": []
  }
 ],
 "metadata": {
  "kernelspec": {
   "display_name": "Python 3",
   "language": "python",
   "name": "python3"
  },
  "language_info": {
   "codemirror_mode": {
    "name": "ipython",
    "version": 3
   },
   "file_extension": ".py",
   "mimetype": "text/x-python",
   "name": "python",
   "nbconvert_exporter": "python",
   "pygments_lexer": "ipython3",
   "version": "3.8.5"
  }
 },
 "nbformat": 4,
 "nbformat_minor": 4
}
